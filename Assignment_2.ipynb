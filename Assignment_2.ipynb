{
  "nbformat": 4,
  "nbformat_minor": 0,
  "metadata": {
    "colab": {
      "provenance": [],
      "authorship_tag": "ABX9TyNP4WCK02q77reNP9B6jPwC",
      "include_colab_link": true
    },
    "kernelspec": {
      "name": "python3",
      "display_name": "Python 3"
    },
    "language_info": {
      "name": "python"
    }
  },
  "cells": [
    {
      "cell_type": "markdown",
      "metadata": {
        "id": "view-in-github",
        "colab_type": "text"
      },
      "source": [
        "<a href=\"https://colab.research.google.com/github/Farukkibria/introduction/blob/main/Assignment_2.ipynb\" target=\"_parent\"><img src=\"https://colab.research.google.com/assets/colab-badge.svg\" alt=\"Open In Colab\"/></a>"
      ]
    },
    {
      "cell_type": "code",
      "execution_count": null,
      "metadata": {
        "id": "gCsz_zjrR17d"
      },
      "outputs": [],
      "source": []
    },
    {
      "cell_type": "code",
      "source": [],
      "metadata": {
        "id": "lBG8FXZ605CM"
      },
      "execution_count": null,
      "outputs": []
    },
    {
      "cell_type": "markdown",
      "source": [
        "# Assignment *2*"
      ],
      "metadata": {
        "id": "Oxoej2auR8_3"
      }
    },
    {
      "cell_type": "code",
      "source": [
        "# Creating variables\n",
        "name = \"Faruk\"\n",
        "age = 38\n",
        "fav_color = \"blue\"\n",
        "# Printing variables\n",
        "print(\"Name:\", name)\n",
        "print(\"Age:\", age)\n",
        "print(\"Favourite Color:\", fav_color)\n"
      ],
      "metadata": {
        "colab": {
          "base_uri": "https://localhost:8080/"
        },
        "id": "S3xNpl7cSDG4",
        "outputId": "3f5dc1ef-e128-4799-b6a8-6c5672beb843"
      },
      "execution_count": null,
      "outputs": [
        {
          "output_type": "stream",
          "name": "stdout",
          "text": [
            "Name: Faruk\n",
            "Age: 38\n",
            "Favourite Color: blue\n"
          ]
        }
      ]
    },
    {
      "cell_type": "code",
      "source": [
        "name = \"Faruk\"\n",
        "address = 'Dinajpur'\n",
        "age = 38\n",
        "weight = 74.5\n",
        "is_ok = True\n",
        "has_done = False\n",
        "result = None\n",
        "print(type(name))\n",
        "print(type(age))\n",
        "print(type(result))\n",
        "print(type(is_ok))\n",
        "print(type(weight))"
      ],
      "metadata": {
        "colab": {
          "base_uri": "https://localhost:8080/"
        },
        "id": "MQvDvbgAS1NY",
        "outputId": "24a57db8-462c-4608-905a-b707894bbf87"
      },
      "execution_count": null,
      "outputs": [
        {
          "output_type": "stream",
          "name": "stdout",
          "text": [
            "<class 'str'>\n",
            "<class 'int'>\n",
            "<class 'NoneType'>\n",
            "<class 'bool'>\n",
            "<class 'float'>\n"
          ]
        }
      ]
    },
    {
      "cell_type": "code",
      "source": [
        "length=7\n",
        "width=5\n",
        "area=length*width\n",
        "print(\"Area=\", area)\n",
        "perimeter= 2*(length+width)\n",
        "print(\"Perimeter=\", perimeter)"
      ],
      "metadata": {
        "colab": {
          "base_uri": "https://localhost:8080/"
        },
        "id": "_Q0DPNYFUOpS",
        "outputId": "e5fdc94a-7b9a-4d07-ccfb-faf19a6db4a6"
      },
      "execution_count": null,
      "outputs": [
        {
          "output_type": "stream",
          "name": "stdout",
          "text": [
            "Area= 35\n",
            "Perimeter= 24\n"
          ]
        }
      ]
    },
    {
      "cell_type": "code",
      "source": [
        "food=[\"rice\",\"potato\",\"fish\",\"beef\",\"mutton\"]\n",
        "print(food[0])\n",
        "print(food[4])"
      ],
      "metadata": {
        "colab": {
          "base_uri": "https://localhost:8080/"
        },
        "id": "CHOw-iJlVD1X",
        "outputId": "2b1d23b1-01c7-40ef-9764-88f9c658302d"
      },
      "execution_count": null,
      "outputs": [
        {
          "output_type": "stream",
          "name": "stdout",
          "text": [
            "rice\n",
            "mutton\n"
          ]
        }
      ]
    },
    {
      "cell_type": "code",
      "source": [
        "numbers=[1,4,2,3,6]\n",
        "numbers.insert(1,7)\n",
        "numbers.remove(1)\n",
        "numbers.sort()\n",
        "print(numbers)"
      ],
      "metadata": {
        "colab": {
          "base_uri": "https://localhost:8080/"
        },
        "id": "LBNOGwkPWGUP",
        "outputId": "63eb0b8c-347d-4f47-c997-1c9df05d9db3"
      },
      "execution_count": null,
      "outputs": [
        {
          "output_type": "stream",
          "name": "stdout",
          "text": [
            "[2, 3, 4, 6, 7]\n"
          ]
        }
      ]
    },
    {
      "cell_type": "code",
      "source": [
        "my_details={\"name \":\"faruk\", \"id\": 86,\"city\":\"dinajpur\", \"country\":\"bangladesh\"}\n",
        "print(my_details)"
      ],
      "metadata": {
        "colab": {
          "base_uri": "https://localhost:8080/"
        },
        "id": "e6vPPgcfXURp",
        "outputId": "d84e2c3f-3262-45f2-d4f9-474e9c40089d"
      },
      "execution_count": null,
      "outputs": [
        {
          "output_type": "stream",
          "name": "stdout",
          "text": [
            "{'name ': 'faruk', 'id': 86, 'city': 'dinajpur', 'country': 'bangladesh'}\n"
          ]
        }
      ]
    },
    {
      "cell_type": "code",
      "source": [
        "dinajpur=(25,88)\n",
        "print (dinajpur)"
      ],
      "metadata": {
        "colab": {
          "base_uri": "https://localhost:8080/"
        },
        "id": "PbW6m1L4YcLh",
        "outputId": "194272d3-ada1-4871-dfc5-8fb26266f047"
      },
      "execution_count": null,
      "outputs": [
        {
          "output_type": "stream",
          "name": "stdout",
          "text": [
            "(25, 88)\n"
          ]
        }
      ]
    },
    {
      "cell_type": "code",
      "source": [
        "ser={\"red\",\"blue\"}\n",
        "seri={\"red\",\"black\"}\n",
        "uni= ser | seri\n",
        "inter= ser & seri\n",
        "print(uni)\n",
        "print(inter)"
      ],
      "metadata": {
        "colab": {
          "base_uri": "https://localhost:8080/"
        },
        "id": "DvD_seDMZa8d",
        "outputId": "2c8c851d-91fd-4c22-a27f-3971916eb391"
      },
      "execution_count": null,
      "outputs": [
        {
          "output_type": "stream",
          "name": "stdout",
          "text": [
            "{'black', 'blue', 'red'}\n",
            "{'red'}\n"
          ]
        }
      ]
    },
    {
      "cell_type": "code",
      "source": [
        "a=5\n",
        "if a>0:\n",
        "  print(\"positive\")\n",
        "elif a<0:\n",
        "  print(\"negative\")\n",
        "else:\n",
        "  print(\"zero\")"
      ],
      "metadata": {
        "colab": {
          "base_uri": "https://localhost:8080/"
        },
        "id": "8_hWPwB909JZ",
        "outputId": "193d48d5-1647-4c4c-8713-701d12e58538"
      },
      "execution_count": null,
      "outputs": [
        {
          "output_type": "stream",
          "name": "stdout",
          "text": [
            "positive\n"
          ]
        }
      ]
    },
    {
      "cell_type": "code",
      "source": [
        "x=\"student\"\n",
        "age=22\n",
        "if x==\"student\" and age<25:\n",
        "  print(\"eligible for discount\")\n",
        "elif x==\"senior\" and age>60:\n",
        "  print(\"eligible for discount\")\n",
        "else:\n",
        "  print(\"not eligible for discount\")\n"
      ],
      "metadata": {
        "colab": {
          "base_uri": "https://localhost:8080/"
        },
        "id": "IFKUQjxS1snj",
        "outputId": "76083ba2-0651-41c9-cf34-61839bc5ed89"
      },
      "execution_count": null,
      "outputs": [
        {
          "output_type": "stream",
          "name": "stdout",
          "text": [
            "eligible for discount\n"
          ]
        }
      ]
    },
    {
      "cell_type": "code",
      "source": [
        "x=range(2,1)\n",
        "for n in x:\n",
        "  if n%2==0:\n",
        "    print(n)\n",
        "  else:\n",
        "    continue"
      ],
      "metadata": {
        "colab": {
          "base_uri": "https://localhost:8080/"
        },
        "id": "qDlIuonl6x6Y",
        "outputId": "f44bdd7f-a4b9-4375-cd20-557ae9ad1efe"
      },
      "execution_count": null,
      "outputs": [
        {
          "output_type": "stream",
          "name": "stdout",
          "text": [
            "2\n",
            "4\n",
            "6\n",
            "8\n",
            "10\n"
          ]
        }
      ]
    },
    {
      "cell_type": "code",
      "source": [
        "p=3\n",
        "for n in range(0,3):\n",
        "  p=p-1\n",
        "  print(\" \"*p, \"*\"*(2*n+1))\n"
      ],
      "metadata": {
        "colab": {
          "base_uri": "https://localhost:8080/"
        },
        "id": "4NC82zd6EhFP",
        "outputId": "1a7c13a1-c9c9-41ad-8df5-28dcec9fbd93"
      },
      "execution_count": null,
      "outputs": [
        {
          "output_type": "stream",
          "name": "stdout",
          "text": [
            "   *\n",
            "  ***\n",
            " *****\n"
          ]
        }
      ]
    },
    {
      "cell_type": "code",
      "source": [
        "def ctof(C):\n",
        "  Fer=(C*9/5)+32\n",
        "  return Fer\n",
        "CEL=ctof(32)\n",
        "print(CEL)\n"
      ],
      "metadata": {
        "colab": {
          "base_uri": "https://localhost:8080/"
        },
        "id": "ypcoHzthIU6F",
        "outputId": "c788b603-1e8a-40d7-aa6e-afecab95f25f"
      },
      "execution_count": null,
      "outputs": [
        {
          "output_type": "stream",
          "name": "stdout",
          "text": [
            "89.6\n"
          ]
        }
      ]
    },
    {
      "cell_type": "code",
      "source": [
        "def area (x,y):\n",
        "  A=x*y\n",
        "  return A\n",
        "aa=area(4,5)\n",
        "print(aa)"
      ],
      "metadata": {
        "colab": {
          "base_uri": "https://localhost:8080/"
        },
        "id": "8tj2xrWUKcUl",
        "outputId": "001b3cd4-1a52-4d5c-88a0-f6a5a8403bd8"
      },
      "execution_count": null,
      "outputs": [
        {
          "output_type": "stream",
          "name": "stdout",
          "text": [
            "20\n"
          ]
        }
      ]
    }
  ]
}